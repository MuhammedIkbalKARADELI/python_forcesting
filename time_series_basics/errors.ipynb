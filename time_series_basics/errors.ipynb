{
 "cells": [
  {
   "cell_type": "code",
   "execution_count": 1,
   "id": "a4f47ec2",
   "metadata": {},
   "outputs": [],
   "source": [
    "import pandas as pd\n",
    "import numpy as np\n",
    "import os\n",
    "import matplotlib.pyplot as plt"
   ]
  },
  {
   "cell_type": "code",
   "execution_count": 4,
   "id": "f8f7b1fb",
   "metadata": {},
   "outputs": [
    {
     "name": "stdout",
     "output_type": "stream",
     "text": [
      "Requirement already satisfied: scikit-learn in /Library/Frameworks/Python.framework/Versions/3.10/lib/python3.10/site-packages (1.6.1)\n",
      "Requirement already satisfied: numpy>=1.19.5 in /Library/Frameworks/Python.framework/Versions/3.10/lib/python3.10/site-packages (from scikit-learn) (1.26.4)\n",
      "Requirement already satisfied: scipy>=1.6.0 in /Library/Frameworks/Python.framework/Versions/3.10/lib/python3.10/site-packages (from scikit-learn) (1.15.1)\n",
      "Requirement already satisfied: joblib>=1.2.0 in /Library/Frameworks/Python.framework/Versions/3.10/lib/python3.10/site-packages (from scikit-learn) (1.4.2)\n",
      "Requirement already satisfied: threadpoolctl>=3.1.0 in /Library/Frameworks/Python.framework/Versions/3.10/lib/python3.10/site-packages (from scikit-learn) (3.5.0)\n",
      "Note: you may need to restart the kernel to use updated packages.\n"
     ]
    }
   ],
   "source": [
    "pip install -U scikit-learn  #### MAPE implemented in lasted version of the SKLearn"
   ]
  },
  {
   "cell_type": "code",
   "execution_count": 5,
   "id": "aab67468",
   "metadata": {},
   "outputs": [],
   "source": [
    "from sklearn.metrics import mean_absolute_percentage_error, mean_absolute_error, mean_squared_error, r2_score "
   ]
  },
  {
   "cell_type": "code",
   "execution_count": 6,
   "id": "890d2d12",
   "metadata": {},
   "outputs": [],
   "source": [
    "db_path = \"/Applications/Work Space/Python Work Space/python_forcesting/SPY.csv\""
   ]
  },
  {
   "cell_type": "code",
   "execution_count": 8,
   "metadata": {},
   "outputs": [
    {
     "data": {
      "text/html": [
       "<div>\n",
       "<style scoped>\n",
       "    .dataframe tbody tr th:only-of-type {\n",
       "        vertical-align: middle;\n",
       "    }\n",
       "\n",
       "    .dataframe tbody tr th {\n",
       "        vertical-align: top;\n",
       "    }\n",
       "\n",
       "    .dataframe thead th {\n",
       "        text-align: right;\n",
       "    }\n",
       "</style>\n",
       "<table border=\"1\" class=\"dataframe\">\n",
       "  <thead>\n",
       "    <tr style=\"text-align: right;\">\n",
       "      <th></th>\n",
       "      <th>Open</th>\n",
       "      <th>High</th>\n",
       "      <th>Low</th>\n",
       "      <th>Close</th>\n",
       "      <th>Adj Close</th>\n",
       "      <th>Volume</th>\n",
       "    </tr>\n",
       "    <tr>\n",
       "      <th>Date</th>\n",
       "      <th></th>\n",
       "      <th></th>\n",
       "      <th></th>\n",
       "      <th></th>\n",
       "      <th></th>\n",
       "      <th></th>\n",
       "    </tr>\n",
       "  </thead>\n",
       "  <tbody>\n",
       "    <tr>\n",
       "      <th>2010-01-04</th>\n",
       "      <td>112.370003</td>\n",
       "      <td>113.389999</td>\n",
       "      <td>111.510002</td>\n",
       "      <td>113.330002</td>\n",
       "      <td>92.246048</td>\n",
       "      <td>118944600</td>\n",
       "    </tr>\n",
       "    <tr>\n",
       "      <th>2010-01-05</th>\n",
       "      <td>113.260002</td>\n",
       "      <td>113.680000</td>\n",
       "      <td>112.849998</td>\n",
       "      <td>113.629997</td>\n",
       "      <td>92.490204</td>\n",
       "      <td>111579900</td>\n",
       "    </tr>\n",
       "    <tr>\n",
       "      <th>2010-01-06</th>\n",
       "      <td>113.519997</td>\n",
       "      <td>113.989998</td>\n",
       "      <td>113.430000</td>\n",
       "      <td>113.709999</td>\n",
       "      <td>92.555328</td>\n",
       "      <td>116074400</td>\n",
       "    </tr>\n",
       "    <tr>\n",
       "      <th>2010-01-07</th>\n",
       "      <td>113.500000</td>\n",
       "      <td>114.330002</td>\n",
       "      <td>113.180000</td>\n",
       "      <td>114.190002</td>\n",
       "      <td>92.946060</td>\n",
       "      <td>131091100</td>\n",
       "    </tr>\n",
       "    <tr>\n",
       "      <th>2010-01-08</th>\n",
       "      <td>113.889999</td>\n",
       "      <td>114.620003</td>\n",
       "      <td>113.660004</td>\n",
       "      <td>114.570000</td>\n",
       "      <td>93.255348</td>\n",
       "      <td>126402800</td>\n",
       "    </tr>\n",
       "    <tr>\n",
       "      <th>...</th>\n",
       "      <td>...</td>\n",
       "      <td>...</td>\n",
       "      <td>...</td>\n",
       "      <td>...</td>\n",
       "      <td>...</td>\n",
       "      <td>...</td>\n",
       "    </tr>\n",
       "    <tr>\n",
       "      <th>2018-12-21</th>\n",
       "      <td>246.740005</td>\n",
       "      <td>249.710007</td>\n",
       "      <td>239.979996</td>\n",
       "      <td>240.699997</td>\n",
       "      <td>234.845886</td>\n",
       "      <td>255345600</td>\n",
       "    </tr>\n",
       "    <tr>\n",
       "      <th>2018-12-24</th>\n",
       "      <td>239.039993</td>\n",
       "      <td>240.839996</td>\n",
       "      <td>234.270004</td>\n",
       "      <td>234.339996</td>\n",
       "      <td>228.640564</td>\n",
       "      <td>147311600</td>\n",
       "    </tr>\n",
       "    <tr>\n",
       "      <th>2018-12-26</th>\n",
       "      <td>235.970001</td>\n",
       "      <td>246.179993</td>\n",
       "      <td>233.759995</td>\n",
       "      <td>246.179993</td>\n",
       "      <td>240.192596</td>\n",
       "      <td>218485400</td>\n",
       "    </tr>\n",
       "    <tr>\n",
       "      <th>2018-12-27</th>\n",
       "      <td>242.570007</td>\n",
       "      <td>248.289993</td>\n",
       "      <td>238.960007</td>\n",
       "      <td>248.070007</td>\n",
       "      <td>242.036667</td>\n",
       "      <td>186267300</td>\n",
       "    </tr>\n",
       "    <tr>\n",
       "      <th>2018-12-28</th>\n",
       "      <td>249.580002</td>\n",
       "      <td>251.399994</td>\n",
       "      <td>246.449997</td>\n",
       "      <td>247.750000</td>\n",
       "      <td>241.724442</td>\n",
       "      <td>153100200</td>\n",
       "    </tr>\n",
       "  </tbody>\n",
       "</table>\n",
       "<p>2263 rows × 6 columns</p>\n",
       "</div>"
      ],
      "text/plain": [
       "                  Open        High         Low       Close   Adj Close  \\\n",
       "Date                                                                     \n",
       "2010-01-04  112.370003  113.389999  111.510002  113.330002   92.246048   \n",
       "2010-01-05  113.260002  113.680000  112.849998  113.629997   92.490204   \n",
       "2010-01-06  113.519997  113.989998  113.430000  113.709999   92.555328   \n",
       "2010-01-07  113.500000  114.330002  113.180000  114.190002   92.946060   \n",
       "2010-01-08  113.889999  114.620003  113.660004  114.570000   93.255348   \n",
       "...                ...         ...         ...         ...         ...   \n",
       "2018-12-21  246.740005  249.710007  239.979996  240.699997  234.845886   \n",
       "2018-12-24  239.039993  240.839996  234.270004  234.339996  228.640564   \n",
       "2018-12-26  235.970001  246.179993  233.759995  246.179993  240.192596   \n",
       "2018-12-27  242.570007  248.289993  238.960007  248.070007  242.036667   \n",
       "2018-12-28  249.580002  251.399994  246.449997  247.750000  241.724442   \n",
       "\n",
       "               Volume  \n",
       "Date                   \n",
       "2010-01-04  118944600  \n",
       "2010-01-05  111579900  \n",
       "2010-01-06  116074400  \n",
       "2010-01-07  131091100  \n",
       "2010-01-08  126402800  \n",
       "...               ...  \n",
       "2018-12-21  255345600  \n",
       "2018-12-24  147311600  \n",
       "2018-12-26  218485400  \n",
       "2018-12-27  186267300  \n",
       "2018-12-28  153100200  \n",
       "\n",
       "[2263 rows x 6 columns]"
      ]
     },
     "execution_count": 8,
     "metadata": {},
     "output_type": "execute_result"
    }
   ],
   "source": [
    "df = pd.read_csv(db_path, index_col=\"Date\", parse_dates=True)\n",
    "df"
   ]
  },
  {
   "cell_type": "code",
   "execution_count": 10,
   "id": "17af51f7",
   "metadata": {},
   "outputs": [
    {
     "data": {
      "text/html": [
       "<div>\n",
       "<style scoped>\n",
       "    .dataframe tbody tr th:only-of-type {\n",
       "        vertical-align: middle;\n",
       "    }\n",
       "\n",
       "    .dataframe tbody tr th {\n",
       "        vertical-align: top;\n",
       "    }\n",
       "\n",
       "    .dataframe thead th {\n",
       "        text-align: right;\n",
       "    }\n",
       "</style>\n",
       "<table border=\"1\" class=\"dataframe\">\n",
       "  <thead>\n",
       "    <tr style=\"text-align: right;\">\n",
       "      <th></th>\n",
       "      <th>Open</th>\n",
       "      <th>High</th>\n",
       "      <th>Low</th>\n",
       "      <th>Close</th>\n",
       "      <th>Adj Close</th>\n",
       "      <th>Volume</th>\n",
       "      <th>ClosePrediction</th>\n",
       "    </tr>\n",
       "    <tr>\n",
       "      <th>Date</th>\n",
       "      <th></th>\n",
       "      <th></th>\n",
       "      <th></th>\n",
       "      <th></th>\n",
       "      <th></th>\n",
       "      <th></th>\n",
       "      <th></th>\n",
       "    </tr>\n",
       "  </thead>\n",
       "  <tbody>\n",
       "    <tr>\n",
       "      <th>2010-01-04</th>\n",
       "      <td>112.370003</td>\n",
       "      <td>113.389999</td>\n",
       "      <td>111.510002</td>\n",
       "      <td>113.330002</td>\n",
       "      <td>92.246048</td>\n",
       "      <td>118944600</td>\n",
       "      <td>NaN</td>\n",
       "    </tr>\n",
       "    <tr>\n",
       "      <th>2010-01-05</th>\n",
       "      <td>113.260002</td>\n",
       "      <td>113.680000</td>\n",
       "      <td>112.849998</td>\n",
       "      <td>113.629997</td>\n",
       "      <td>92.490204</td>\n",
       "      <td>111579900</td>\n",
       "      <td>113.330002</td>\n",
       "    </tr>\n",
       "    <tr>\n",
       "      <th>2010-01-06</th>\n",
       "      <td>113.519997</td>\n",
       "      <td>113.989998</td>\n",
       "      <td>113.430000</td>\n",
       "      <td>113.709999</td>\n",
       "      <td>92.555328</td>\n",
       "      <td>116074400</td>\n",
       "      <td>113.629997</td>\n",
       "    </tr>\n",
       "    <tr>\n",
       "      <th>2010-01-07</th>\n",
       "      <td>113.500000</td>\n",
       "      <td>114.330002</td>\n",
       "      <td>113.180000</td>\n",
       "      <td>114.190002</td>\n",
       "      <td>92.946060</td>\n",
       "      <td>131091100</td>\n",
       "      <td>113.709999</td>\n",
       "    </tr>\n",
       "    <tr>\n",
       "      <th>2010-01-08</th>\n",
       "      <td>113.889999</td>\n",
       "      <td>114.620003</td>\n",
       "      <td>113.660004</td>\n",
       "      <td>114.570000</td>\n",
       "      <td>93.255348</td>\n",
       "      <td>126402800</td>\n",
       "      <td>114.190002</td>\n",
       "    </tr>\n",
       "    <tr>\n",
       "      <th>...</th>\n",
       "      <td>...</td>\n",
       "      <td>...</td>\n",
       "      <td>...</td>\n",
       "      <td>...</td>\n",
       "      <td>...</td>\n",
       "      <td>...</td>\n",
       "      <td>...</td>\n",
       "    </tr>\n",
       "    <tr>\n",
       "      <th>2018-12-21</th>\n",
       "      <td>246.740005</td>\n",
       "      <td>249.710007</td>\n",
       "      <td>239.979996</td>\n",
       "      <td>240.699997</td>\n",
       "      <td>234.845886</td>\n",
       "      <td>255345600</td>\n",
       "      <td>247.169998</td>\n",
       "    </tr>\n",
       "    <tr>\n",
       "      <th>2018-12-24</th>\n",
       "      <td>239.039993</td>\n",
       "      <td>240.839996</td>\n",
       "      <td>234.270004</td>\n",
       "      <td>234.339996</td>\n",
       "      <td>228.640564</td>\n",
       "      <td>147311600</td>\n",
       "      <td>240.699997</td>\n",
       "    </tr>\n",
       "    <tr>\n",
       "      <th>2018-12-26</th>\n",
       "      <td>235.970001</td>\n",
       "      <td>246.179993</td>\n",
       "      <td>233.759995</td>\n",
       "      <td>246.179993</td>\n",
       "      <td>240.192596</td>\n",
       "      <td>218485400</td>\n",
       "      <td>234.339996</td>\n",
       "    </tr>\n",
       "    <tr>\n",
       "      <th>2018-12-27</th>\n",
       "      <td>242.570007</td>\n",
       "      <td>248.289993</td>\n",
       "      <td>238.960007</td>\n",
       "      <td>248.070007</td>\n",
       "      <td>242.036667</td>\n",
       "      <td>186267300</td>\n",
       "      <td>246.179993</td>\n",
       "    </tr>\n",
       "    <tr>\n",
       "      <th>2018-12-28</th>\n",
       "      <td>249.580002</td>\n",
       "      <td>251.399994</td>\n",
       "      <td>246.449997</td>\n",
       "      <td>247.750000</td>\n",
       "      <td>241.724442</td>\n",
       "      <td>153100200</td>\n",
       "      <td>248.070007</td>\n",
       "    </tr>\n",
       "  </tbody>\n",
       "</table>\n",
       "<p>2263 rows × 7 columns</p>\n",
       "</div>"
      ],
      "text/plain": [
       "                  Open        High         Low       Close   Adj Close  \\\n",
       "Date                                                                     \n",
       "2010-01-04  112.370003  113.389999  111.510002  113.330002   92.246048   \n",
       "2010-01-05  113.260002  113.680000  112.849998  113.629997   92.490204   \n",
       "2010-01-06  113.519997  113.989998  113.430000  113.709999   92.555328   \n",
       "2010-01-07  113.500000  114.330002  113.180000  114.190002   92.946060   \n",
       "2010-01-08  113.889999  114.620003  113.660004  114.570000   93.255348   \n",
       "...                ...         ...         ...         ...         ...   \n",
       "2018-12-21  246.740005  249.710007  239.979996  240.699997  234.845886   \n",
       "2018-12-24  239.039993  240.839996  234.270004  234.339996  228.640564   \n",
       "2018-12-26  235.970001  246.179993  233.759995  246.179993  240.192596   \n",
       "2018-12-27  242.570007  248.289993  238.960007  248.070007  242.036667   \n",
       "2018-12-28  249.580002  251.399994  246.449997  247.750000  241.724442   \n",
       "\n",
       "               Volume  ClosePrediction  \n",
       "Date                                    \n",
       "2010-01-04  118944600              NaN  \n",
       "2010-01-05  111579900       113.330002  \n",
       "2010-01-06  116074400       113.629997  \n",
       "2010-01-07  131091100       113.709999  \n",
       "2010-01-08  126402800       114.190002  \n",
       "...               ...              ...  \n",
       "2018-12-21  255345600       247.169998  \n",
       "2018-12-24  147311600       240.699997  \n",
       "2018-12-26  218485400       234.339996  \n",
       "2018-12-27  186267300       246.179993  \n",
       "2018-12-28  153100200       248.070007  \n",
       "\n",
       "[2263 rows x 7 columns]"
      ]
     },
     "execution_count": 10,
     "metadata": {},
     "output_type": "execute_result"
    }
   ],
   "source": [
    "df[\"ClosePrediction\"] = df[\"Close\"].shift(1) # Shift the close values and add the new column, may be we are use to closeprediction as label ( i don't know)\n",
    "df"
   ]
  },
  {
   "cell_type": "code",
   "execution_count": null,
   "id": "c53de87b",
   "metadata": {},
   "outputs": [],
   "source": [
    "y_true = df[1:][\"Close\"]\n",
    "y_pred = df[1:][\"ClosePrediction\"]"
   ]
  },
  {
   "cell_type": "markdown",
   "id": "4374520c",
   "metadata": {},
   "source": [
    "### SSE  (Sum of the Squared Error)"
   ]
  },
  {
   "cell_type": "code",
   "execution_count": 12,
   "id": "534e74ac",
   "metadata": {},
   "outputs": [
    {
     "data": {
      "text/plain": [
       "6330.374289492605"
      ]
     },
     "execution_count": 12,
     "metadata": {},
     "output_type": "execute_result"
    }
   ],
   "source": [
    "(y_true - y_pred).dot(y_true - y_pred)"
   ]
  },
  {
   "cell_type": "markdown",
   "id": "8c9768f0",
   "metadata": {},
   "source": [
    "### MSE  (Mean Squared Error)"
   ]
  },
  {
   "cell_type": "code",
   "execution_count": 18,
   "id": "48c6de5d",
   "metadata": {},
   "outputs": [
    {
     "data": {
      "text/plain": [
       "2.798573956451196"
      ]
     },
     "execution_count": 18,
     "metadata": {},
     "output_type": "execute_result"
    }
   ],
   "source": [
    "mean_squared_error(y_true, y_pred)"
   ]
  },
  {
   "cell_type": "code",
   "execution_count": 19,
   "id": "6f0148b1",
   "metadata": {},
   "outputs": [
    {
     "data": {
      "text/plain": [
       "2.798573956451196"
      ]
     },
     "execution_count": 19,
     "metadata": {},
     "output_type": "execute_result"
    }
   ],
   "source": [
    "(y_true - y_pred).dot(y_true - y_pred) / len(y_true)"
   ]
  },
  {
   "cell_type": "markdown",
   "id": "41fb9656",
   "metadata": {},
   "source": [
    "### RMSE (Root Mean Squared Error)"
   ]
  },
  {
   "cell_type": "code",
   "execution_count": 29,
   "id": "fd43d85f",
   "metadata": {},
   "outputs": [
    {
     "data": {
      "text/plain": [
       "1.672893886787562"
      ]
     },
     "execution_count": 29,
     "metadata": {},
     "output_type": "execute_result"
    }
   ],
   "source": [
    "np.sqrt((y_true - y_pred).dot(y_true - y_pred) / len(y_true))"
   ]
  },
  {
   "cell_type": "markdown",
   "id": "d8731917",
   "metadata": {},
   "source": [
    "### MAE (Mean Absolute Error)"
   ]
  },
  {
   "cell_type": "code",
   "execution_count": 30,
   "id": "3bfd5dc1",
   "metadata": {},
   "outputs": [
    {
     "data": {
      "text/plain": [
       "1.1457559803120336"
      ]
     },
     "execution_count": 30,
     "metadata": {},
     "output_type": "execute_result"
    }
   ],
   "source": [
    "mean_absolute_error(y_true, y_pred)"
   ]
  },
  {
   "cell_type": "markdown",
   "id": "31ff5047",
   "metadata": {},
   "source": [
    "### R^2"
   ]
  },
  {
   "cell_type": "code",
   "execution_count": 34,
   "id": "f0c694aa",
   "metadata": {},
   "outputs": [
    {
     "data": {
      "text/plain": [
       "0.9989603259063914"
      ]
     },
     "execution_count": 34,
     "metadata": {},
     "output_type": "execute_result"
    }
   ],
   "source": [
    "# wow that is a good prediction score\n",
    "\n",
    "r2_score(y_true, y_pred)"
   ]
  },
  {
   "cell_type": "markdown",
   "id": "ef908d69",
   "metadata": {},
   "source": [
    "### MAPE (Mean Absolute Percantage Error)"
   ]
  },
  {
   "cell_type": "code",
   "execution_count": 32,
   "id": "d6ecc6a0",
   "metadata": {},
   "outputs": [
    {
     "data": {
      "text/plain": [
       "0.006494073151422373"
      ]
     },
     "execution_count": 32,
     "metadata": {},
     "output_type": "execute_result"
    }
   ],
   "source": [
    "mean_absolute_percentage_error(y_true, y_pred)"
   ]
  },
  {
   "cell_type": "markdown",
   "id": "8d2563a1",
   "metadata": {},
   "source": [
    "### sMAPE"
   ]
  },
  {
   "cell_type": "code",
   "execution_count": 36,
   "id": "dbf4a2b1",
   "metadata": {},
   "outputs": [],
   "source": [
    "def sMAPE(y_true, y_pred):\n",
    "    numerator = np.abs(y_true - y_pred)\n",
    "    denominator = (np.abs(y_true) + np.abs(y_pred)) / 2\n",
    "    ratio = numerator / denominator\n",
    "    return ratio.mean()"
   ]
  },
  {
   "cell_type": "code",
   "execution_count": 37,
   "id": "22c34062",
   "metadata": {},
   "outputs": [
    {
     "data": {
      "text/plain": [
       "0.006491365814068417"
      ]
     },
     "execution_count": 37,
     "metadata": {},
     "output_type": "execute_result"
    }
   ],
   "source": [
    "sMAPE(y_true, y_pred)"
   ]
  },
  {
   "cell_type": "code",
   "execution_count": null,
   "id": "165d7165",
   "metadata": {},
   "outputs": [],
   "source": []
  }
 ],
 "metadata": {
  "kernelspec": {
   "display_name": "Python 3",
   "language": "python",
   "name": "python3"
  },
  "language_info": {
   "codemirror_mode": {
    "name": "ipython",
    "version": 3
   },
   "file_extension": ".py",
   "mimetype": "text/x-python",
   "name": "python",
   "nbconvert_exporter": "python",
   "pygments_lexer": "ipython3",
   "version": "3.10.5"
  }
 },
 "nbformat": 4,
 "nbformat_minor": 5
}
